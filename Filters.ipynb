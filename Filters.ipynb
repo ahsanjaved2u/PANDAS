{
 "cells": [
  {
   "cell_type": "code",
   "execution_count": 10,
   "id": "dcfa0575-457a-437c-95bf-cccd964835dd",
   "metadata": {
    "jupyter": {
     "source_hidden": true
    }
   },
   "outputs": [],
   "source": [
    "people = {\n",
    "    \"first\":[\"ahsan\", \"jane\",\"john\"],\n",
    "    \"last\":[\"javed\",\"Doe\", \"Doe\"],\n",
    "    \"email\":[\"ahsan@email.com\", \"jane@email.com\", \"john@email.com\"]\n",
    "}"
   ]
  },
  {
   "cell_type": "code",
   "execution_count": 11,
   "id": "c8d85918-c602-4348-b32f-6ab88b2319bc",
   "metadata": {
    "collapsed": true,
    "jupyter": {
     "outputs_hidden": true
    }
   },
   "outputs": [
    {
     "data": {
      "text/plain": [
       "{'first': ['ahsan', 'jane', 'john'],\n",
       " 'last': ['javed', 'Doe', 'Doe'],\n",
       " 'email': ['ahsan@email.com', 'jane@email.com', 'john@email.com']}"
      ]
     },
     "execution_count": 11,
     "metadata": {},
     "output_type": "execute_result"
    }
   ],
   "source": [
    "people"
   ]
  },
  {
   "cell_type": "code",
   "execution_count": 12,
   "id": "596bb5dc-8a9f-4e89-92e0-76c9945eb80b",
   "metadata": {
    "jupyter": {
     "source_hidden": true
    }
   },
   "outputs": [],
   "source": [
    "import pandas as pd\n",
    "df = pd.DataFrame(people)"
   ]
  },
  {
   "cell_type": "code",
   "execution_count": 30,
   "id": "1ed36a48-6400-4d1a-b07d-c1686e7710cc",
   "metadata": {
    "collapsed": true,
    "jupyter": {
     "outputs_hidden": true,
     "source_hidden": true
    },
    "scrolled": true
   },
   "outputs": [
    {
     "data": {
      "text/html": [
       "<div>\n",
       "<style scoped>\n",
       "    .dataframe tbody tr th:only-of-type {\n",
       "        vertical-align: middle;\n",
       "    }\n",
       "\n",
       "    .dataframe tbody tr th {\n",
       "        vertical-align: top;\n",
       "    }\n",
       "\n",
       "    .dataframe thead th {\n",
       "        text-align: right;\n",
       "    }\n",
       "</style>\n",
       "<table border=\"1\" class=\"dataframe\">\n",
       "  <thead>\n",
       "    <tr style=\"text-align: right;\">\n",
       "      <th></th>\n",
       "      <th>first</th>\n",
       "      <th>last</th>\n",
       "      <th>email</th>\n",
       "    </tr>\n",
       "  </thead>\n",
       "  <tbody>\n",
       "    <tr>\n",
       "      <th>0</th>\n",
       "      <td>ahsan</td>\n",
       "      <td>javed</td>\n",
       "      <td>ahsan@email.com</td>\n",
       "    </tr>\n",
       "    <tr>\n",
       "      <th>1</th>\n",
       "      <td>jane</td>\n",
       "      <td>Doe</td>\n",
       "      <td>jane@email.com</td>\n",
       "    </tr>\n",
       "    <tr>\n",
       "      <th>2</th>\n",
       "      <td>john</td>\n",
       "      <td>Doe</td>\n",
       "      <td>john@email.com</td>\n",
       "    </tr>\n",
       "  </tbody>\n",
       "</table>\n",
       "</div>"
      ],
      "text/plain": [
       "   first   last            email\n",
       "0  ahsan  javed  ahsan@email.com\n",
       "1   jane    Doe   jane@email.com\n",
       "2   john    Doe   john@email.com"
      ]
     },
     "execution_count": 30,
     "metadata": {},
     "output_type": "execute_result"
    }
   ],
   "source": [
    "df"
   ]
  },
  {
   "cell_type": "markdown",
   "id": "b63a1d6e-227e-4fea-b9e3-7c126fd08043",
   "metadata": {},
   "source": [
    "## This ll five true and false which ll act as fast for original data"
   ]
  },
  {
   "cell_type": "code",
   "execution_count": null,
   "id": "dcfcd87b-5ab0-4dcd-b8c2-b81f6ed02e4a",
   "metadata": {},
   "outputs": [],
   "source": [
    "\n",
    "filt = (df['first'] == 'john') "
   ]
  },
  {
   "cell_type": "code",
   "execution_count": 12,
   "id": "c40e00e1-ad9f-4430-a87f-1e0e7b559dd7",
   "metadata": {
    "collapsed": true,
    "jupyter": {
     "outputs_hidden": true,
     "source_hidden": true
    }
   },
   "outputs": [
    {
     "data": {
      "text/plain": [
       "0    False\n",
       "1    False\n",
       "2     True\n",
       "Name: first, dtype: bool"
      ]
     },
     "execution_count": 12,
     "metadata": {},
     "output_type": "execute_result"
    }
   ],
   "source": [
    "filt "
   ]
  },
  {
   "cell_type": "code",
   "execution_count": 13,
   "id": "65a708f9-d0e6-46cf-9d72-7fd1cb2ca1d5",
   "metadata": {
    "collapsed": true,
    "jupyter": {
     "outputs_hidden": true,
     "source_hidden": true
    }
   },
   "outputs": [
    {
     "data": {
      "text/html": [
       "<div>\n",
       "<style scoped>\n",
       "    .dataframe tbody tr th:only-of-type {\n",
       "        vertical-align: middle;\n",
       "    }\n",
       "\n",
       "    .dataframe tbody tr th {\n",
       "        vertical-align: top;\n",
       "    }\n",
       "\n",
       "    .dataframe thead th {\n",
       "        text-align: right;\n",
       "    }\n",
       "</style>\n",
       "<table border=\"1\" class=\"dataframe\">\n",
       "  <thead>\n",
       "    <tr style=\"text-align: right;\">\n",
       "      <th></th>\n",
       "      <th>first</th>\n",
       "      <th>last</th>\n",
       "      <th>email</th>\n",
       "    </tr>\n",
       "  </thead>\n",
       "  <tbody>\n",
       "    <tr>\n",
       "      <th>2</th>\n",
       "      <td>john</td>\n",
       "      <td>Doe</td>\n",
       "      <td>john@email.com</td>\n",
       "    </tr>\n",
       "  </tbody>\n",
       "</table>\n",
       "</div>"
      ],
      "text/plain": [
       "  first last           email\n",
       "2  john  Doe  john@email.com"
      ]
     },
     "execution_count": 13,
     "metadata": {},
     "output_type": "execute_result"
    }
   ],
   "source": [
    "#now apply filter\n",
    "df[filt]  #how ever here we cant give secong ardument to get a specific column.so we use loc"
   ]
  },
  {
   "cell_type": "code",
   "execution_count": 15,
   "id": "3f513f1c-a5c0-47ba-9ed2-ef35584f25e6",
   "metadata": {
    "collapsed": true,
    "jupyter": {
     "outputs_hidden": true,
     "source_hidden": true
    }
   },
   "outputs": [
    {
     "data": {
      "text/plain": [
       "2    john@email.com\n",
       "Name: email, dtype: object"
      ]
     },
     "execution_count": 15,
     "metadata": {},
     "output_type": "execute_result"
    }
   ],
   "source": [
    "df.loc[filt , 'email']"
   ]
  },
  {
   "cell_type": "code",
   "execution_count": 17,
   "id": "3eb2bd41-8f33-4a56-a56d-c9f80e1ac3f5",
   "metadata": {
    "collapsed": true,
    "jupyter": {
     "outputs_hidden": true,
     "source_hidden": true
    }
   },
   "outputs": [
    {
     "data": {
      "text/html": [
       "<div>\n",
       "<style scoped>\n",
       "    .dataframe tbody tr th:only-of-type {\n",
       "        vertical-align: middle;\n",
       "    }\n",
       "\n",
       "    .dataframe tbody tr th {\n",
       "        vertical-align: top;\n",
       "    }\n",
       "\n",
       "    .dataframe thead th {\n",
       "        text-align: right;\n",
       "    }\n",
       "</style>\n",
       "<table border=\"1\" class=\"dataframe\">\n",
       "  <thead>\n",
       "    <tr style=\"text-align: right;\">\n",
       "      <th></th>\n",
       "      <th>first</th>\n",
       "      <th>email</th>\n",
       "    </tr>\n",
       "  </thead>\n",
       "  <tbody>\n",
       "    <tr>\n",
       "      <th>2</th>\n",
       "      <td>john</td>\n",
       "      <td>john@email.com</td>\n",
       "    </tr>\n",
       "  </tbody>\n",
       "</table>\n",
       "</div>"
      ],
      "text/plain": [
       "  first           email\n",
       "2  john  john@email.com"
      ]
     },
     "execution_count": 17,
     "metadata": {},
     "output_type": "execute_result"
    }
   ],
   "source": [
    "df.loc[filt , ['first' ,'email']]"
   ]
  },
  {
   "cell_type": "code",
   "execution_count": 32,
   "id": "dd4cbd2e-efb6-4f54-b323-1fbe5d2b812f",
   "metadata": {},
   "outputs": [],
   "source": [
    "filt = (df['first'] == 'john') | (df['first'] == 'jane')"
   ]
  },
  {
   "cell_type": "code",
   "execution_count": 33,
   "id": "ea290539-f234-4673-a248-bb12d1927732",
   "metadata": {
    "collapsed": true,
    "jupyter": {
     "outputs_hidden": true,
     "source_hidden": true
    },
    "scrolled": true
   },
   "outputs": [
    {
     "data": {
      "text/plain": [
       "0    False\n",
       "1     True\n",
       "2     True\n",
       "Name: first, dtype: bool"
      ]
     },
     "execution_count": 33,
     "metadata": {},
     "output_type": "execute_result"
    }
   ],
   "source": [
    "filt"
   ]
  },
  {
   "cell_type": "code",
   "execution_count": null,
   "id": "e60d987c-b504-4403-b03d-9d9b4cb7c4aa",
   "metadata": {},
   "outputs": [],
   "source": [
    "filt = (df['first'] == 'john') & (df['first'] == 'jane')"
   ]
  },
  {
   "cell_type": "code",
   "execution_count": 35,
   "id": "2a96cc98-483e-4240-8a7d-9af680b04f55",
   "metadata": {
    "collapsed": true,
    "jupyter": {
     "outputs_hidden": true,
     "source_hidden": true
    },
    "scrolled": true
   },
   "outputs": [
    {
     "data": {
      "text/plain": [
       "0    False\n",
       "1     True\n",
       "2     True\n",
       "Name: first, dtype: bool"
      ]
     },
     "execution_count": 35,
     "metadata": {},
     "output_type": "execute_result"
    }
   ],
   "source": [
    "filt"
   ]
  },
  {
   "cell_type": "code",
   "execution_count": 34,
   "id": "48698553-3184-4132-b835-5ce102707114",
   "metadata": {
    "collapsed": true,
    "jupyter": {
     "outputs_hidden": true,
     "source_hidden": true
    }
   },
   "outputs": [
    {
     "data": {
      "text/plain": [
       "0     True\n",
       "1    False\n",
       "2    False\n",
       "Name: first, dtype: bool"
      ]
     },
     "execution_count": 34,
     "metadata": {},
     "output_type": "execute_result"
    }
   ],
   "source": [
    "~filt ## compliment"
   ]
  },
  {
   "cell_type": "raw",
   "id": "2d81489b-e28d-4767-a90f-cc4401920ccc",
   "metadata": {},
   "source": [
    "Now large Data set"
   ]
  },
  {
   "cell_type": "code",
   "execution_count": 13,
   "id": "743788aa-1dd6-4be9-ae45-b820a73c0130",
   "metadata": {},
   "outputs": [],
   "source": [
    "df = pd.read_csv('data/survey_results_public.csv' , index_col = 'Respondent')\n",
    "df_schema = pd.read_csv('data/survey_results_schema.csv', index_col = 'Column')"
   ]
  },
  {
   "cell_type": "code",
   "execution_count": 14,
   "id": "535bf48a-e617-4863-96d3-d992354ed55c",
   "metadata": {
    "collapsed": true,
    "jupyter": {
     "outputs_hidden": true
    },
    "scrolled": true
   },
   "outputs": [
    {
     "data": {
      "text/html": [
       "<div>\n",
       "<style scoped>\n",
       "    .dataframe tbody tr th:only-of-type {\n",
       "        vertical-align: middle;\n",
       "    }\n",
       "\n",
       "    .dataframe tbody tr th {\n",
       "        vertical-align: top;\n",
       "    }\n",
       "\n",
       "    .dataframe thead th {\n",
       "        text-align: right;\n",
       "    }\n",
       "</style>\n",
       "<table border=\"1\" class=\"dataframe\">\n",
       "  <thead>\n",
       "    <tr style=\"text-align: right;\">\n",
       "      <th></th>\n",
       "      <th>MainBranch</th>\n",
       "      <th>Hobbyist</th>\n",
       "      <th>OpenSourcer</th>\n",
       "      <th>OpenSource</th>\n",
       "      <th>Employment</th>\n",
       "      <th>Country</th>\n",
       "      <th>Student</th>\n",
       "      <th>EdLevel</th>\n",
       "      <th>UndergradMajor</th>\n",
       "      <th>EduOther</th>\n",
       "      <th>...</th>\n",
       "      <th>WelcomeChange</th>\n",
       "      <th>SONewContent</th>\n",
       "      <th>Age</th>\n",
       "      <th>Gender</th>\n",
       "      <th>Trans</th>\n",
       "      <th>Sexuality</th>\n",
       "      <th>Ethnicity</th>\n",
       "      <th>Dependents</th>\n",
       "      <th>SurveyLength</th>\n",
       "      <th>SurveyEase</th>\n",
       "    </tr>\n",
       "    <tr>\n",
       "      <th>Respondent</th>\n",
       "      <th></th>\n",
       "      <th></th>\n",
       "      <th></th>\n",
       "      <th></th>\n",
       "      <th></th>\n",
       "      <th></th>\n",
       "      <th></th>\n",
       "      <th></th>\n",
       "      <th></th>\n",
       "      <th></th>\n",
       "      <th></th>\n",
       "      <th></th>\n",
       "      <th></th>\n",
       "      <th></th>\n",
       "      <th></th>\n",
       "      <th></th>\n",
       "      <th></th>\n",
       "      <th></th>\n",
       "      <th></th>\n",
       "      <th></th>\n",
       "      <th></th>\n",
       "    </tr>\n",
       "  </thead>\n",
       "  <tbody>\n",
       "    <tr>\n",
       "      <th>1</th>\n",
       "      <td>I am a student who is learning to code</td>\n",
       "      <td>Yes</td>\n",
       "      <td>Never</td>\n",
       "      <td>The quality of OSS and closed source software ...</td>\n",
       "      <td>Not employed, and not looking for work</td>\n",
       "      <td>United Kingdom</td>\n",
       "      <td>No</td>\n",
       "      <td>Primary/elementary school</td>\n",
       "      <td>NaN</td>\n",
       "      <td>Taught yourself a new language, framework, or ...</td>\n",
       "      <td>...</td>\n",
       "      <td>Just as welcome now as I felt last year</td>\n",
       "      <td>Tech articles written by other developers;Indu...</td>\n",
       "      <td>14.0</td>\n",
       "      <td>Man</td>\n",
       "      <td>No</td>\n",
       "      <td>Straight / Heterosexual</td>\n",
       "      <td>NaN</td>\n",
       "      <td>No</td>\n",
       "      <td>Appropriate in length</td>\n",
       "      <td>Neither easy nor difficult</td>\n",
       "    </tr>\n",
       "    <tr>\n",
       "      <th>2</th>\n",
       "      <td>I am a student who is learning to code</td>\n",
       "      <td>No</td>\n",
       "      <td>Less than once per year</td>\n",
       "      <td>The quality of OSS and closed source software ...</td>\n",
       "      <td>Not employed, but looking for work</td>\n",
       "      <td>Bosnia and Herzegovina</td>\n",
       "      <td>Yes, full-time</td>\n",
       "      <td>Secondary school (e.g. American high school, G...</td>\n",
       "      <td>NaN</td>\n",
       "      <td>Taken an online course in programming or softw...</td>\n",
       "      <td>...</td>\n",
       "      <td>Just as welcome now as I felt last year</td>\n",
       "      <td>Tech articles written by other developers;Indu...</td>\n",
       "      <td>19.0</td>\n",
       "      <td>Man</td>\n",
       "      <td>No</td>\n",
       "      <td>Straight / Heterosexual</td>\n",
       "      <td>NaN</td>\n",
       "      <td>No</td>\n",
       "      <td>Appropriate in length</td>\n",
       "      <td>Neither easy nor difficult</td>\n",
       "    </tr>\n",
       "  </tbody>\n",
       "</table>\n",
       "<p>2 rows × 84 columns</p>\n",
       "</div>"
      ],
      "text/plain": [
       "                                        MainBranch Hobbyist  \\\n",
       "Respondent                                                    \n",
       "1           I am a student who is learning to code      Yes   \n",
       "2           I am a student who is learning to code       No   \n",
       "\n",
       "                        OpenSourcer  \\\n",
       "Respondent                            \n",
       "1                             Never   \n",
       "2           Less than once per year   \n",
       "\n",
       "                                                   OpenSource  \\\n",
       "Respondent                                                      \n",
       "1           The quality of OSS and closed source software ...   \n",
       "2           The quality of OSS and closed source software ...   \n",
       "\n",
       "                                        Employment                 Country  \\\n",
       "Respondent                                                                   \n",
       "1           Not employed, and not looking for work          United Kingdom   \n",
       "2               Not employed, but looking for work  Bosnia and Herzegovina   \n",
       "\n",
       "                   Student                                            EdLevel  \\\n",
       "Respondent                                                                      \n",
       "1                       No                          Primary/elementary school   \n",
       "2           Yes, full-time  Secondary school (e.g. American high school, G...   \n",
       "\n",
       "           UndergradMajor                                           EduOther  \\\n",
       "Respondent                                                                     \n",
       "1                     NaN  Taught yourself a new language, framework, or ...   \n",
       "2                     NaN  Taken an online course in programming or softw...   \n",
       "\n",
       "            ...                            WelcomeChange  \\\n",
       "Respondent  ...                                            \n",
       "1           ...  Just as welcome now as I felt last year   \n",
       "2           ...  Just as welcome now as I felt last year   \n",
       "\n",
       "                                                 SONewContent   Age Gender  \\\n",
       "Respondent                                                                   \n",
       "1           Tech articles written by other developers;Indu...  14.0    Man   \n",
       "2           Tech articles written by other developers;Indu...  19.0    Man   \n",
       "\n",
       "           Trans                Sexuality Ethnicity Dependents  \\\n",
       "Respondent                                                       \n",
       "1             No  Straight / Heterosexual       NaN         No   \n",
       "2             No  Straight / Heterosexual       NaN         No   \n",
       "\n",
       "                     SurveyLength                  SurveyEase  \n",
       "Respondent                                                     \n",
       "1           Appropriate in length  Neither easy nor difficult  \n",
       "2           Appropriate in length  Neither easy nor difficult  \n",
       "\n",
       "[2 rows x 84 columns]"
      ]
     },
     "execution_count": 14,
     "metadata": {},
     "output_type": "execute_result"
    }
   ],
   "source": [
    "df.head(2)"
   ]
  },
  {
   "cell_type": "code",
   "execution_count": 17,
   "id": "202024b3-5268-4d41-bc51-8be0d77805f6",
   "metadata": {
    "collapsed": true,
    "jupyter": {
     "outputs_hidden": true,
     "source_hidden": true
    },
    "scrolled": true
   },
   "outputs": [
    {
     "data": {
      "text/plain": [
       "<bound method NDFrame.head of                                                    QuestionText\n",
       "Column                                                         \n",
       "Respondent    Randomized respondent ID number (not in order ...\n",
       "MainBranch    Which of the following options best describes ...\n",
       "Hobbyist                                Do you code as a hobby?\n",
       "OpenSourcer         How often do you contribute to open source?\n",
       "OpenSource    How do you feel about the quality of open sour...\n",
       "...                                                         ...\n",
       "Sexuality     Which of the following do you currently identi...\n",
       "Ethnicity     Which of the following do you identify as? Ple...\n",
       "Dependents    Do you have any dependents (e.g., children, el...\n",
       "SurveyLength  How do you feel about the length of the survey...\n",
       "SurveyEase    How easy or difficult was this survey to compl...\n",
       "\n",
       "[85 rows x 1 columns]>"
      ]
     },
     "execution_count": 17,
     "metadata": {},
     "output_type": "execute_result"
    }
   ],
   "source": [
    "df_schema.head"
   ]
  },
  {
   "cell_type": "code",
   "execution_count": 21,
   "id": "77869caa-eff3-4cb2-ab32-c91c81950b90",
   "metadata": {},
   "outputs": [],
   "source": [
    "hight_salary_filter = (df['ConvertedComp'] > 7000)"
   ]
  },
  {
   "cell_type": "code",
   "execution_count": 22,
   "id": "12d74b1b-db1a-433d-b869-fec95a5776d6",
   "metadata": {
    "collapsed": true,
    "jupyter": {
     "outputs_hidden": true
    }
   },
   "outputs": [
    {
     "data": {
      "text/plain": [
       "Respondent\n",
       "1        False\n",
       "2        False\n",
       "3         True\n",
       "4         True\n",
       "5        False\n",
       "         ...  \n",
       "88377    False\n",
       "88601    False\n",
       "88802    False\n",
       "88816    False\n",
       "88863    False\n",
       "Name: ConvertedComp, Length: 88883, dtype: bool"
      ]
     },
     "execution_count": 22,
     "metadata": {},
     "output_type": "execute_result"
    }
   ],
   "source": [
    "hight_salary_filter"
   ]
  },
  {
   "cell_type": "code",
   "execution_count": 23,
   "id": "b4a72359-3206-4dbb-beae-fe8966bf9794",
   "metadata": {
    "collapsed": true,
    "jupyter": {
     "outputs_hidden": true
    }
   },
   "outputs": [
    {
     "data": {
      "text/html": [
       "<div>\n",
       "<style scoped>\n",
       "    .dataframe tbody tr th:only-of-type {\n",
       "        vertical-align: middle;\n",
       "    }\n",
       "\n",
       "    .dataframe tbody tr th {\n",
       "        vertical-align: top;\n",
       "    }\n",
       "\n",
       "    .dataframe thead th {\n",
       "        text-align: right;\n",
       "    }\n",
       "</style>\n",
       "<table border=\"1\" class=\"dataframe\">\n",
       "  <thead>\n",
       "    <tr style=\"text-align: right;\">\n",
       "      <th></th>\n",
       "      <th>MainBranch</th>\n",
       "      <th>Hobbyist</th>\n",
       "      <th>OpenSourcer</th>\n",
       "      <th>OpenSource</th>\n",
       "      <th>Employment</th>\n",
       "      <th>Country</th>\n",
       "      <th>Student</th>\n",
       "      <th>EdLevel</th>\n",
       "      <th>UndergradMajor</th>\n",
       "      <th>EduOther</th>\n",
       "      <th>...</th>\n",
       "      <th>WelcomeChange</th>\n",
       "      <th>SONewContent</th>\n",
       "      <th>Age</th>\n",
       "      <th>Gender</th>\n",
       "      <th>Trans</th>\n",
       "      <th>Sexuality</th>\n",
       "      <th>Ethnicity</th>\n",
       "      <th>Dependents</th>\n",
       "      <th>SurveyLength</th>\n",
       "      <th>SurveyEase</th>\n",
       "    </tr>\n",
       "    <tr>\n",
       "      <th>Respondent</th>\n",
       "      <th></th>\n",
       "      <th></th>\n",
       "      <th></th>\n",
       "      <th></th>\n",
       "      <th></th>\n",
       "      <th></th>\n",
       "      <th></th>\n",
       "      <th></th>\n",
       "      <th></th>\n",
       "      <th></th>\n",
       "      <th></th>\n",
       "      <th></th>\n",
       "      <th></th>\n",
       "      <th></th>\n",
       "      <th></th>\n",
       "      <th></th>\n",
       "      <th></th>\n",
       "      <th></th>\n",
       "      <th></th>\n",
       "      <th></th>\n",
       "      <th></th>\n",
       "    </tr>\n",
       "  </thead>\n",
       "  <tbody>\n",
       "    <tr>\n",
       "      <th>3</th>\n",
       "      <td>I am not primarily a developer, but I write co...</td>\n",
       "      <td>Yes</td>\n",
       "      <td>Never</td>\n",
       "      <td>The quality of OSS and closed source software ...</td>\n",
       "      <td>Employed full-time</td>\n",
       "      <td>Thailand</td>\n",
       "      <td>No</td>\n",
       "      <td>Bachelor’s degree (BA, BS, B.Eng., etc.)</td>\n",
       "      <td>Web development or web design</td>\n",
       "      <td>Taught yourself a new language, framework, or ...</td>\n",
       "      <td>...</td>\n",
       "      <td>Just as welcome now as I felt last year</td>\n",
       "      <td>Tech meetups or events in your area;Courses on...</td>\n",
       "      <td>28.0</td>\n",
       "      <td>Man</td>\n",
       "      <td>No</td>\n",
       "      <td>Straight / Heterosexual</td>\n",
       "      <td>NaN</td>\n",
       "      <td>Yes</td>\n",
       "      <td>Appropriate in length</td>\n",
       "      <td>Neither easy nor difficult</td>\n",
       "    </tr>\n",
       "    <tr>\n",
       "      <th>4</th>\n",
       "      <td>I am a developer by profession</td>\n",
       "      <td>No</td>\n",
       "      <td>Never</td>\n",
       "      <td>The quality of OSS and closed source software ...</td>\n",
       "      <td>Employed full-time</td>\n",
       "      <td>United States</td>\n",
       "      <td>No</td>\n",
       "      <td>Bachelor’s degree (BA, BS, B.Eng., etc.)</td>\n",
       "      <td>Computer science, computer engineering, or sof...</td>\n",
       "      <td>Taken an online course in programming or softw...</td>\n",
       "      <td>...</td>\n",
       "      <td>Just as welcome now as I felt last year</td>\n",
       "      <td>Tech articles written by other developers;Indu...</td>\n",
       "      <td>22.0</td>\n",
       "      <td>Man</td>\n",
       "      <td>No</td>\n",
       "      <td>Straight / Heterosexual</td>\n",
       "      <td>White or of European descent</td>\n",
       "      <td>No</td>\n",
       "      <td>Appropriate in length</td>\n",
       "      <td>Easy</td>\n",
       "    </tr>\n",
       "    <tr>\n",
       "      <th>6</th>\n",
       "      <td>I am not primarily a developer, but I write co...</td>\n",
       "      <td>Yes</td>\n",
       "      <td>Never</td>\n",
       "      <td>The quality of OSS and closed source software ...</td>\n",
       "      <td>Employed full-time</td>\n",
       "      <td>Canada</td>\n",
       "      <td>No</td>\n",
       "      <td>Bachelor’s degree (BA, BS, B.Eng., etc.)</td>\n",
       "      <td>Mathematics or statistics</td>\n",
       "      <td>Taken an online course in programming or softw...</td>\n",
       "      <td>...</td>\n",
       "      <td>Just as welcome now as I felt last year</td>\n",
       "      <td>Tech articles written by other developers;Indu...</td>\n",
       "      <td>28.0</td>\n",
       "      <td>Man</td>\n",
       "      <td>No</td>\n",
       "      <td>Straight / Heterosexual</td>\n",
       "      <td>East Asian</td>\n",
       "      <td>No</td>\n",
       "      <td>Too long</td>\n",
       "      <td>Neither easy nor difficult</td>\n",
       "    </tr>\n",
       "    <tr>\n",
       "      <th>9</th>\n",
       "      <td>I am a developer by profession</td>\n",
       "      <td>Yes</td>\n",
       "      <td>Once a month or more often</td>\n",
       "      <td>The quality of OSS and closed source software ...</td>\n",
       "      <td>Employed full-time</td>\n",
       "      <td>New Zealand</td>\n",
       "      <td>No</td>\n",
       "      <td>Some college/university study without earning ...</td>\n",
       "      <td>Computer science, computer engineering, or sof...</td>\n",
       "      <td>Taken an online course in programming or softw...</td>\n",
       "      <td>...</td>\n",
       "      <td>Just as welcome now as I felt last year</td>\n",
       "      <td>NaN</td>\n",
       "      <td>23.0</td>\n",
       "      <td>Man</td>\n",
       "      <td>No</td>\n",
       "      <td>Bisexual</td>\n",
       "      <td>White or of European descent</td>\n",
       "      <td>No</td>\n",
       "      <td>Appropriate in length</td>\n",
       "      <td>Neither easy nor difficult</td>\n",
       "    </tr>\n",
       "    <tr>\n",
       "      <th>10</th>\n",
       "      <td>I am a developer by profession</td>\n",
       "      <td>Yes</td>\n",
       "      <td>Once a month or more often</td>\n",
       "      <td>OSS is, on average, of HIGHER quality than pro...</td>\n",
       "      <td>Employed full-time</td>\n",
       "      <td>India</td>\n",
       "      <td>No</td>\n",
       "      <td>Master’s degree (MA, MS, M.Eng., MBA, etc.)</td>\n",
       "      <td>NaN</td>\n",
       "      <td>NaN</td>\n",
       "      <td>...</td>\n",
       "      <td>Somewhat less welcome now than last year</td>\n",
       "      <td>Tech articles written by other developers;Tech...</td>\n",
       "      <td>NaN</td>\n",
       "      <td>NaN</td>\n",
       "      <td>NaN</td>\n",
       "      <td>NaN</td>\n",
       "      <td>NaN</td>\n",
       "      <td>Yes</td>\n",
       "      <td>Too long</td>\n",
       "      <td>Difficult</td>\n",
       "    </tr>\n",
       "    <tr>\n",
       "      <th>...</th>\n",
       "      <td>...</td>\n",
       "      <td>...</td>\n",
       "      <td>...</td>\n",
       "      <td>...</td>\n",
       "      <td>...</td>\n",
       "      <td>...</td>\n",
       "      <td>...</td>\n",
       "      <td>...</td>\n",
       "      <td>...</td>\n",
       "      <td>...</td>\n",
       "      <td>...</td>\n",
       "      <td>...</td>\n",
       "      <td>...</td>\n",
       "      <td>...</td>\n",
       "      <td>...</td>\n",
       "      <td>...</td>\n",
       "      <td>...</td>\n",
       "      <td>...</td>\n",
       "      <td>...</td>\n",
       "      <td>...</td>\n",
       "      <td>...</td>\n",
       "    </tr>\n",
       "    <tr>\n",
       "      <th>88878</th>\n",
       "      <td>I am a developer by profession</td>\n",
       "      <td>Yes</td>\n",
       "      <td>Less than once per year</td>\n",
       "      <td>The quality of OSS and closed source software ...</td>\n",
       "      <td>Employed full-time</td>\n",
       "      <td>United States</td>\n",
       "      <td>No</td>\n",
       "      <td>Bachelor’s degree (BA, BS, B.Eng., etc.)</td>\n",
       "      <td>Computer science, computer engineering, or sof...</td>\n",
       "      <td>Taken an online course in programming or softw...</td>\n",
       "      <td>...</td>\n",
       "      <td>Just as welcome now as I felt last year</td>\n",
       "      <td>Tech articles written by other developers;Indu...</td>\n",
       "      <td>26.0</td>\n",
       "      <td>Man</td>\n",
       "      <td>No</td>\n",
       "      <td>Straight / Heterosexual</td>\n",
       "      <td>South Asian</td>\n",
       "      <td>No</td>\n",
       "      <td>Appropriate in length</td>\n",
       "      <td>Easy</td>\n",
       "    </tr>\n",
       "    <tr>\n",
       "      <th>88879</th>\n",
       "      <td>I am a developer by profession</td>\n",
       "      <td>Yes</td>\n",
       "      <td>Never</td>\n",
       "      <td>The quality of OSS and closed source software ...</td>\n",
       "      <td>Employed full-time</td>\n",
       "      <td>Finland</td>\n",
       "      <td>No</td>\n",
       "      <td>Master’s degree (MA, MS, M.Eng., MBA, etc.)</td>\n",
       "      <td>Computer science, computer engineering, or sof...</td>\n",
       "      <td>Taught yourself a new language, framework, or ...</td>\n",
       "      <td>...</td>\n",
       "      <td>Not applicable - I did not use Stack Overflow ...</td>\n",
       "      <td>NaN</td>\n",
       "      <td>34.0</td>\n",
       "      <td>Man</td>\n",
       "      <td>No</td>\n",
       "      <td>Straight / Heterosexual</td>\n",
       "      <td>White or of European descent</td>\n",
       "      <td>No</td>\n",
       "      <td>Appropriate in length</td>\n",
       "      <td>Easy</td>\n",
       "    </tr>\n",
       "    <tr>\n",
       "      <th>88881</th>\n",
       "      <td>I am a developer by profession</td>\n",
       "      <td>Yes</td>\n",
       "      <td>Once a month or more often</td>\n",
       "      <td>OSS is, on average, of HIGHER quality than pro...</td>\n",
       "      <td>Employed full-time</td>\n",
       "      <td>Austria</td>\n",
       "      <td>No</td>\n",
       "      <td>Master’s degree (MA, MS, M.Eng., MBA, etc.)</td>\n",
       "      <td>Computer science, computer engineering, or sof...</td>\n",
       "      <td>Taken an online course in programming or softw...</td>\n",
       "      <td>...</td>\n",
       "      <td>NaN</td>\n",
       "      <td>NaN</td>\n",
       "      <td>37.0</td>\n",
       "      <td>Man</td>\n",
       "      <td>No</td>\n",
       "      <td>Straight / Heterosexual</td>\n",
       "      <td>White or of European descent</td>\n",
       "      <td>No</td>\n",
       "      <td>Appropriate in length</td>\n",
       "      <td>Easy</td>\n",
       "    </tr>\n",
       "    <tr>\n",
       "      <th>88882</th>\n",
       "      <td>I am a developer by profession</td>\n",
       "      <td>Yes</td>\n",
       "      <td>Never</td>\n",
       "      <td>OSS is, on average, of LOWER quality than prop...</td>\n",
       "      <td>Employed full-time</td>\n",
       "      <td>Netherlands</td>\n",
       "      <td>Yes, full-time</td>\n",
       "      <td>Master’s degree (MA, MS, M.Eng., MBA, etc.)</td>\n",
       "      <td>Computer science, computer engineering, or sof...</td>\n",
       "      <td>Participated in online coding competitions (e....</td>\n",
       "      <td>...</td>\n",
       "      <td>Just as welcome now as I felt last year</td>\n",
       "      <td>NaN</td>\n",
       "      <td>NaN</td>\n",
       "      <td>Man</td>\n",
       "      <td>No</td>\n",
       "      <td>Straight / Heterosexual</td>\n",
       "      <td>White or of European descent</td>\n",
       "      <td>Yes</td>\n",
       "      <td>Too long</td>\n",
       "      <td>Easy</td>\n",
       "    </tr>\n",
       "    <tr>\n",
       "      <th>88883</th>\n",
       "      <td>I am a developer by profession</td>\n",
       "      <td>Yes</td>\n",
       "      <td>Once a month or more often</td>\n",
       "      <td>OSS is, on average, of HIGHER quality than pro...</td>\n",
       "      <td>Employed full-time</td>\n",
       "      <td>Greece</td>\n",
       "      <td>No</td>\n",
       "      <td>Bachelor’s degree (BA, BS, B.Eng., etc.)</td>\n",
       "      <td>Computer science, computer engineering, or sof...</td>\n",
       "      <td>Taught yourself a new language, framework, or ...</td>\n",
       "      <td>...</td>\n",
       "      <td>Just as welcome now as I felt last year</td>\n",
       "      <td>Tech articles written by other developers</td>\n",
       "      <td>33.0</td>\n",
       "      <td>Man</td>\n",
       "      <td>No</td>\n",
       "      <td>Straight / Heterosexual</td>\n",
       "      <td>White or of European descent</td>\n",
       "      <td>No</td>\n",
       "      <td>Too short</td>\n",
       "      <td>Easy</td>\n",
       "    </tr>\n",
       "  </tbody>\n",
       "</table>\n",
       "<p>51905 rows × 84 columns</p>\n",
       "</div>"
      ],
      "text/plain": [
       "                                                   MainBranch Hobbyist  \\\n",
       "Respondent                                                               \n",
       "3           I am not primarily a developer, but I write co...      Yes   \n",
       "4                              I am a developer by profession       No   \n",
       "6           I am not primarily a developer, but I write co...      Yes   \n",
       "9                              I am a developer by profession      Yes   \n",
       "10                             I am a developer by profession      Yes   \n",
       "...                                                       ...      ...   \n",
       "88878                          I am a developer by profession      Yes   \n",
       "88879                          I am a developer by profession      Yes   \n",
       "88881                          I am a developer by profession      Yes   \n",
       "88882                          I am a developer by profession      Yes   \n",
       "88883                          I am a developer by profession      Yes   \n",
       "\n",
       "                           OpenSourcer  \\\n",
       "Respondent                               \n",
       "3                                Never   \n",
       "4                                Never   \n",
       "6                                Never   \n",
       "9           Once a month or more often   \n",
       "10          Once a month or more often   \n",
       "...                                ...   \n",
       "88878          Less than once per year   \n",
       "88879                            Never   \n",
       "88881       Once a month or more often   \n",
       "88882                            Never   \n",
       "88883       Once a month or more often   \n",
       "\n",
       "                                                   OpenSource  \\\n",
       "Respondent                                                      \n",
       "3           The quality of OSS and closed source software ...   \n",
       "4           The quality of OSS and closed source software ...   \n",
       "6           The quality of OSS and closed source software ...   \n",
       "9           The quality of OSS and closed source software ...   \n",
       "10          OSS is, on average, of HIGHER quality than pro...   \n",
       "...                                                       ...   \n",
       "88878       The quality of OSS and closed source software ...   \n",
       "88879       The quality of OSS and closed source software ...   \n",
       "88881       OSS is, on average, of HIGHER quality than pro...   \n",
       "88882       OSS is, on average, of LOWER quality than prop...   \n",
       "88883       OSS is, on average, of HIGHER quality than pro...   \n",
       "\n",
       "                    Employment        Country         Student  \\\n",
       "Respondent                                                      \n",
       "3           Employed full-time       Thailand              No   \n",
       "4           Employed full-time  United States              No   \n",
       "6           Employed full-time         Canada              No   \n",
       "9           Employed full-time    New Zealand              No   \n",
       "10          Employed full-time          India              No   \n",
       "...                        ...            ...             ...   \n",
       "88878       Employed full-time  United States              No   \n",
       "88879       Employed full-time        Finland              No   \n",
       "88881       Employed full-time        Austria              No   \n",
       "88882       Employed full-time    Netherlands  Yes, full-time   \n",
       "88883       Employed full-time         Greece              No   \n",
       "\n",
       "                                                      EdLevel  \\\n",
       "Respondent                                                      \n",
       "3                    Bachelor’s degree (BA, BS, B.Eng., etc.)   \n",
       "4                    Bachelor’s degree (BA, BS, B.Eng., etc.)   \n",
       "6                    Bachelor’s degree (BA, BS, B.Eng., etc.)   \n",
       "9           Some college/university study without earning ...   \n",
       "10                Master’s degree (MA, MS, M.Eng., MBA, etc.)   \n",
       "...                                                       ...   \n",
       "88878                Bachelor’s degree (BA, BS, B.Eng., etc.)   \n",
       "88879             Master’s degree (MA, MS, M.Eng., MBA, etc.)   \n",
       "88881             Master’s degree (MA, MS, M.Eng., MBA, etc.)   \n",
       "88882             Master’s degree (MA, MS, M.Eng., MBA, etc.)   \n",
       "88883                Bachelor’s degree (BA, BS, B.Eng., etc.)   \n",
       "\n",
       "                                               UndergradMajor  \\\n",
       "Respondent                                                      \n",
       "3                               Web development or web design   \n",
       "4           Computer science, computer engineering, or sof...   \n",
       "6                                   Mathematics or statistics   \n",
       "9           Computer science, computer engineering, or sof...   \n",
       "10                                                        NaN   \n",
       "...                                                       ...   \n",
       "88878       Computer science, computer engineering, or sof...   \n",
       "88879       Computer science, computer engineering, or sof...   \n",
       "88881       Computer science, computer engineering, or sof...   \n",
       "88882       Computer science, computer engineering, or sof...   \n",
       "88883       Computer science, computer engineering, or sof...   \n",
       "\n",
       "                                                     EduOther  ...  \\\n",
       "Respondent                                                     ...   \n",
       "3           Taught yourself a new language, framework, or ...  ...   \n",
       "4           Taken an online course in programming or softw...  ...   \n",
       "6           Taken an online course in programming or softw...  ...   \n",
       "9           Taken an online course in programming or softw...  ...   \n",
       "10                                                        NaN  ...   \n",
       "...                                                       ...  ...   \n",
       "88878       Taken an online course in programming or softw...  ...   \n",
       "88879       Taught yourself a new language, framework, or ...  ...   \n",
       "88881       Taken an online course in programming or softw...  ...   \n",
       "88882       Participated in online coding competitions (e....  ...   \n",
       "88883       Taught yourself a new language, framework, or ...  ...   \n",
       "\n",
       "                                                WelcomeChange  \\\n",
       "Respondent                                                      \n",
       "3                     Just as welcome now as I felt last year   \n",
       "4                     Just as welcome now as I felt last year   \n",
       "6                     Just as welcome now as I felt last year   \n",
       "9                     Just as welcome now as I felt last year   \n",
       "10                   Somewhat less welcome now than last year   \n",
       "...                                                       ...   \n",
       "88878                 Just as welcome now as I felt last year   \n",
       "88879       Not applicable - I did not use Stack Overflow ...   \n",
       "88881                                                     NaN   \n",
       "88882                 Just as welcome now as I felt last year   \n",
       "88883                 Just as welcome now as I felt last year   \n",
       "\n",
       "                                                 SONewContent   Age Gender  \\\n",
       "Respondent                                                                   \n",
       "3           Tech meetups or events in your area;Courses on...  28.0    Man   \n",
       "4           Tech articles written by other developers;Indu...  22.0    Man   \n",
       "6           Tech articles written by other developers;Indu...  28.0    Man   \n",
       "9                                                         NaN  23.0    Man   \n",
       "10          Tech articles written by other developers;Tech...   NaN    NaN   \n",
       "...                                                       ...   ...    ...   \n",
       "88878       Tech articles written by other developers;Indu...  26.0    Man   \n",
       "88879                                                     NaN  34.0    Man   \n",
       "88881                                                     NaN  37.0    Man   \n",
       "88882                                                     NaN   NaN    Man   \n",
       "88883               Tech articles written by other developers  33.0    Man   \n",
       "\n",
       "           Trans                Sexuality                     Ethnicity  \\\n",
       "Respondent                                                                \n",
       "3             No  Straight / Heterosexual                           NaN   \n",
       "4             No  Straight / Heterosexual  White or of European descent   \n",
       "6             No  Straight / Heterosexual                    East Asian   \n",
       "9             No                 Bisexual  White or of European descent   \n",
       "10           NaN                      NaN                           NaN   \n",
       "...          ...                      ...                           ...   \n",
       "88878         No  Straight / Heterosexual                   South Asian   \n",
       "88879         No  Straight / Heterosexual  White or of European descent   \n",
       "88881         No  Straight / Heterosexual  White or of European descent   \n",
       "88882         No  Straight / Heterosexual  White or of European descent   \n",
       "88883         No  Straight / Heterosexual  White or of European descent   \n",
       "\n",
       "           Dependents           SurveyLength                  SurveyEase  \n",
       "Respondent                                                                \n",
       "3                 Yes  Appropriate in length  Neither easy nor difficult  \n",
       "4                  No  Appropriate in length                        Easy  \n",
       "6                  No               Too long  Neither easy nor difficult  \n",
       "9                  No  Appropriate in length  Neither easy nor difficult  \n",
       "10                Yes               Too long                   Difficult  \n",
       "...               ...                    ...                         ...  \n",
       "88878              No  Appropriate in length                        Easy  \n",
       "88879              No  Appropriate in length                        Easy  \n",
       "88881              No  Appropriate in length                        Easy  \n",
       "88882             Yes               Too long                        Easy  \n",
       "88883              No              Too short                        Easy  \n",
       "\n",
       "[51905 rows x 84 columns]"
      ]
     },
     "execution_count": 23,
     "metadata": {},
     "output_type": "execute_result"
    }
   ],
   "source": [
    "df.loc[hight_salary_filter]"
   ]
  },
  {
   "cell_type": "markdown",
   "id": "09a53647-d571-45f8-89e2-d228e20c6af8",
   "metadata": {},
   "source": [
    "## To filter out specif counties etc froma cloumn"
   ]
  },
  {
   "cell_type": "code",
   "execution_count": 27,
   "id": "ced1a647-7e2c-403a-a66a-f3f89a5be402",
   "metadata": {
    "collapsed": true,
    "jupyter": {
     "outputs_hidden": true
    }
   },
   "outputs": [
    {
     "data": {
      "text/html": [
       "<div>\n",
       "<style scoped>\n",
       "    .dataframe tbody tr th:only-of-type {\n",
       "        vertical-align: middle;\n",
       "    }\n",
       "\n",
       "    .dataframe tbody tr th {\n",
       "        vertical-align: top;\n",
       "    }\n",
       "\n",
       "    .dataframe thead th {\n",
       "        text-align: right;\n",
       "    }\n",
       "</style>\n",
       "<table border=\"1\" class=\"dataframe\">\n",
       "  <thead>\n",
       "    <tr style=\"text-align: right;\">\n",
       "      <th></th>\n",
       "      <th>Country</th>\n",
       "      <th>EdLevel</th>\n",
       "      <th>LanguageWorkedWith</th>\n",
       "    </tr>\n",
       "    <tr>\n",
       "      <th>Respondent</th>\n",
       "      <th></th>\n",
       "      <th></th>\n",
       "      <th></th>\n",
       "    </tr>\n",
       "  </thead>\n",
       "  <tbody>\n",
       "    <tr>\n",
       "      <th>3</th>\n",
       "      <td>Thailand</td>\n",
       "      <td>Bachelor’s degree (BA, BS, B.Eng., etc.)</td>\n",
       "      <td>HTML/CSS</td>\n",
       "    </tr>\n",
       "    <tr>\n",
       "      <th>4</th>\n",
       "      <td>United States</td>\n",
       "      <td>Bachelor’s degree (BA, BS, B.Eng., etc.)</td>\n",
       "      <td>C;C++;C#;Python;SQL</td>\n",
       "    </tr>\n",
       "    <tr>\n",
       "      <th>6</th>\n",
       "      <td>Canada</td>\n",
       "      <td>Bachelor’s degree (BA, BS, B.Eng., etc.)</td>\n",
       "      <td>Java;R;SQL</td>\n",
       "    </tr>\n",
       "    <tr>\n",
       "      <th>9</th>\n",
       "      <td>New Zealand</td>\n",
       "      <td>Some college/university study without earning ...</td>\n",
       "      <td>Bash/Shell/PowerShell;C#;HTML/CSS;JavaScript;P...</td>\n",
       "    </tr>\n",
       "    <tr>\n",
       "      <th>10</th>\n",
       "      <td>India</td>\n",
       "      <td>Master’s degree (MA, MS, M.Eng., MBA, etc.)</td>\n",
       "      <td>C#;Go;JavaScript;Python;R;SQL</td>\n",
       "    </tr>\n",
       "    <tr>\n",
       "      <th>...</th>\n",
       "      <td>...</td>\n",
       "      <td>...</td>\n",
       "      <td>...</td>\n",
       "    </tr>\n",
       "    <tr>\n",
       "      <th>88878</th>\n",
       "      <td>United States</td>\n",
       "      <td>Bachelor’s degree (BA, BS, B.Eng., etc.)</td>\n",
       "      <td>HTML/CSS;JavaScript;Scala;TypeScript</td>\n",
       "    </tr>\n",
       "    <tr>\n",
       "      <th>88879</th>\n",
       "      <td>Finland</td>\n",
       "      <td>Master’s degree (MA, MS, M.Eng., MBA, etc.)</td>\n",
       "      <td>Bash/Shell/PowerShell;C++;Python</td>\n",
       "    </tr>\n",
       "    <tr>\n",
       "      <th>88881</th>\n",
       "      <td>Austria</td>\n",
       "      <td>Master’s degree (MA, MS, M.Eng., MBA, etc.)</td>\n",
       "      <td>Bash/Shell/PowerShell;Go;HTML/CSS;Java;JavaScr...</td>\n",
       "    </tr>\n",
       "    <tr>\n",
       "      <th>88882</th>\n",
       "      <td>Netherlands</td>\n",
       "      <td>Master’s degree (MA, MS, M.Eng., MBA, etc.)</td>\n",
       "      <td>C#;HTML/CSS;Java;JavaScript;PHP;Python</td>\n",
       "    </tr>\n",
       "    <tr>\n",
       "      <th>88883</th>\n",
       "      <td>Greece</td>\n",
       "      <td>Bachelor’s degree (BA, BS, B.Eng., etc.)</td>\n",
       "      <td>Go;HTML/CSS;Java;JavaScript;Other(s):</td>\n",
       "    </tr>\n",
       "  </tbody>\n",
       "</table>\n",
       "<p>51905 rows × 3 columns</p>\n",
       "</div>"
      ],
      "text/plain": [
       "                  Country                                            EdLevel  \\\n",
       "Respondent                                                                     \n",
       "3                Thailand           Bachelor’s degree (BA, BS, B.Eng., etc.)   \n",
       "4           United States           Bachelor’s degree (BA, BS, B.Eng., etc.)   \n",
       "6                  Canada           Bachelor’s degree (BA, BS, B.Eng., etc.)   \n",
       "9             New Zealand  Some college/university study without earning ...   \n",
       "10                  India        Master’s degree (MA, MS, M.Eng., MBA, etc.)   \n",
       "...                   ...                                                ...   \n",
       "88878       United States           Bachelor’s degree (BA, BS, B.Eng., etc.)   \n",
       "88879             Finland        Master’s degree (MA, MS, M.Eng., MBA, etc.)   \n",
       "88881             Austria        Master’s degree (MA, MS, M.Eng., MBA, etc.)   \n",
       "88882         Netherlands        Master’s degree (MA, MS, M.Eng., MBA, etc.)   \n",
       "88883              Greece           Bachelor’s degree (BA, BS, B.Eng., etc.)   \n",
       "\n",
       "                                           LanguageWorkedWith  \n",
       "Respondent                                                     \n",
       "3                                                    HTML/CSS  \n",
       "4                                         C;C++;C#;Python;SQL  \n",
       "6                                                  Java;R;SQL  \n",
       "9           Bash/Shell/PowerShell;C#;HTML/CSS;JavaScript;P...  \n",
       "10                              C#;Go;JavaScript;Python;R;SQL  \n",
       "...                                                       ...  \n",
       "88878                    HTML/CSS;JavaScript;Scala;TypeScript  \n",
       "88879                        Bash/Shell/PowerShell;C++;Python  \n",
       "88881       Bash/Shell/PowerShell;Go;HTML/CSS;Java;JavaScr...  \n",
       "88882                  C#;HTML/CSS;Java;JavaScript;PHP;Python  \n",
       "88883                   Go;HTML/CSS;Java;JavaScript;Other(s):  \n",
       "\n",
       "[51905 rows x 3 columns]"
      ]
     },
     "execution_count": 27,
     "metadata": {},
     "output_type": "execute_result"
    }
   ],
   "source": [
    "df.loc[hight_salary_filter, ['Country' , 'EdLevel', 'LanguageWorkedWith']] "
   ]
  },
  {
   "cell_type": "code",
   "execution_count": 28,
   "id": "bcf040ff-5fcb-4ce0-bf5b-e1e281a2c0a5",
   "metadata": {},
   "outputs": [],
   "source": [
    "countries = ['United States' , 'India' , 'United Kingdom' , 'Germany']"
   ]
  },
  {
   "cell_type": "code",
   "execution_count": 33,
   "id": "c937e30e-9866-42d7-bed4-5643e610ea09",
   "metadata": {},
   "outputs": [],
   "source": [
    "filter_for_countries = df['Country'].isin(countries)"
   ]
  },
  {
   "cell_type": "code",
   "execution_count": 38,
   "id": "321bf7ef-669f-4d17-b83b-8f46ee0ed64d",
   "metadata": {
    "collapsed": true,
    "jupyter": {
     "outputs_hidden": true
    }
   },
   "outputs": [
    {
     "data": {
      "text/plain": [
       "Respondent\n",
       "1     United Kingdom\n",
       "4      United States\n",
       "8              India\n",
       "10             India\n",
       "13     United States\n",
       "Name: Country, dtype: object"
      ]
     },
     "execution_count": 38,
     "metadata": {},
     "output_type": "execute_result"
    }
   ],
   "source": [
    "df.loc[filter_for_countries].head()"
   ]
  },
  {
   "cell_type": "markdown",
   "id": "b5e4b49d-d03d-406f-a8a9-1b02188e13d5",
   "metadata": {},
   "source": [
    "## To filter out from string of a specific column like following"
   ]
  },
  {
   "cell_type": "code",
   "execution_count": 41,
   "id": "bbc9a7be-e95b-499a-a29a-47fbcbda37a4",
   "metadata": {
    "collapsed": true,
    "jupyter": {
     "outputs_hidden": true
    }
   },
   "outputs": [
    {
     "data": {
      "text/plain": [
       "Respondent\n",
       "1                          HTML/CSS;Java;JavaScript;Python\n",
       "2                                      C++;HTML/CSS;Python\n",
       "3                                                 HTML/CSS\n",
       "4                                      C;C++;C#;Python;SQL\n",
       "5              C++;HTML/CSS;Java;JavaScript;Python;SQL;VBA\n",
       "                               ...                        \n",
       "88377                        HTML/CSS;JavaScript;Other(s):\n",
       "88601                                                  NaN\n",
       "88802                                                  NaN\n",
       "88816                                                  NaN\n",
       "88863    Bash/Shell/PowerShell;HTML/CSS;Java;JavaScript...\n",
       "Name: LanguageWorkedWith, Length: 88883, dtype: object"
      ]
     },
     "execution_count": 41,
     "metadata": {},
     "output_type": "execute_result"
    }
   ],
   "source": [
    "df['LanguageWorkedWith']"
   ]
  },
  {
   "cell_type": "code",
   "execution_count": 44,
   "id": "be4c3deb-49ca-4297-8b2e-6ab911b0cdbc",
   "metadata": {},
   "outputs": [],
   "source": [
    "language_filter = df['LanguageWorkedWith'].str.contains('Python', na = False)"
   ]
  },
  {
   "cell_type": "code",
   "execution_count": 45,
   "id": "fafdbb35-8646-4925-9256-931b889662bd",
   "metadata": {
    "collapsed": true,
    "jupyter": {
     "outputs_hidden": true
    }
   },
   "outputs": [
    {
     "data": {
      "text/plain": [
       "Respondent\n",
       "1         True\n",
       "2         True\n",
       "3        False\n",
       "4         True\n",
       "5         True\n",
       "         ...  \n",
       "88377    False\n",
       "88601    False\n",
       "88802    False\n",
       "88816    False\n",
       "88863    False\n",
       "Name: LanguageWorkedWith, Length: 88883, dtype: bool"
      ]
     },
     "execution_count": 45,
     "metadata": {},
     "output_type": "execute_result"
    }
   ],
   "source": [
    "language_filter"
   ]
  },
  {
   "cell_type": "code",
   "execution_count": 49,
   "id": "14c5b404-8dc7-4fa9-a8f3-c4f8fc12f05a",
   "metadata": {
    "collapsed": true,
    "jupyter": {
     "outputs_hidden": true
    }
   },
   "outputs": [
    {
     "data": {
      "text/plain": [
       "Respondent\n",
       "1                HTML/CSS;Java;JavaScript;Python\n",
       "2                            C++;HTML/CSS;Python\n",
       "4                            C;C++;C#;Python;SQL\n",
       "5    C++;HTML/CSS;Java;JavaScript;Python;SQL;VBA\n",
       "Name: LanguageWorkedWith, dtype: object"
      ]
     },
     "execution_count": 49,
     "metadata": {},
     "output_type": "execute_result"
    }
   ],
   "source": [
    "df.loc[language_filter].head(4)['LanguageWorkedWith']"
   ]
  },
  {
   "cell_type": "code",
   "execution_count": null,
   "id": "dfc0fa4f-5df8-46d6-b679-24857dc743a8",
   "metadata": {},
   "outputs": [],
   "source": []
  }
 ],
 "metadata": {
  "kernelspec": {
   "display_name": "Python 3 (ipykernel)",
   "language": "python",
   "name": "python3"
  },
  "language_info": {
   "codemirror_mode": {
    "name": "ipython",
    "version": 3
   },
   "file_extension": ".py",
   "mimetype": "text/x-python",
   "name": "python",
   "nbconvert_exporter": "python",
   "pygments_lexer": "ipython3",
   "version": "3.12.4"
  }
 },
 "nbformat": 4,
 "nbformat_minor": 5
}
