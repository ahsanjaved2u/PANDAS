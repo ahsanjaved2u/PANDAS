{
 "cells": [
  {
   "cell_type": "code",
   "execution_count": 2,
   "id": "fbf0c90d-3428-4e52-86ca-0a88fd5ff1e4",
   "metadata": {},
   "outputs": [],
   "source": [
    "people = {\n",
    "    \"first\":[\"ahsan\", \"jane\",\"john\"],\n",
    "    \"last\":[\"javed\",\"Doe\", \"Doe\"],\n",
    "    \"email\":[\"ahsan@email.com\", \"jane@email.com\", \"john@email.com\"]\n",
    "}\n",
    "\n",
    "import pandas as pd\n",
    "df = pd.DataFrame(people)"
   ]
  },
  {
   "cell_type": "code",
   "execution_count": 4,
   "id": "873621c7-272f-431c-a73a-f5ca3bc8b3e8",
   "metadata": {
    "scrolled": true
   },
   "outputs": [
    {
     "data": {
      "text/html": [
       "<div>\n",
       "<style scoped>\n",
       "    .dataframe tbody tr th:only-of-type {\n",
       "        vertical-align: middle;\n",
       "    }\n",
       "\n",
       "    .dataframe tbody tr th {\n",
       "        vertical-align: top;\n",
       "    }\n",
       "\n",
       "    .dataframe thead th {\n",
       "        text-align: right;\n",
       "    }\n",
       "</style>\n",
       "<table border=\"1\" class=\"dataframe\">\n",
       "  <thead>\n",
       "    <tr style=\"text-align: right;\">\n",
       "      <th></th>\n",
       "      <th>first</th>\n",
       "      <th>last</th>\n",
       "      <th>email</th>\n",
       "    </tr>\n",
       "  </thead>\n",
       "  <tbody>\n",
       "    <tr>\n",
       "      <th>0</th>\n",
       "      <td>ahsan</td>\n",
       "      <td>javed</td>\n",
       "      <td>ahsan@email.com</td>\n",
       "    </tr>\n",
       "    <tr>\n",
       "      <th>1</th>\n",
       "      <td>jane</td>\n",
       "      <td>Doe</td>\n",
       "      <td>jane@email.com</td>\n",
       "    </tr>\n",
       "    <tr>\n",
       "      <th>2</th>\n",
       "      <td>john</td>\n",
       "      <td>Doe</td>\n",
       "      <td>john@email.com</td>\n",
       "    </tr>\n",
       "  </tbody>\n",
       "</table>\n",
       "</div>"
      ],
      "text/plain": [
       "   first   last            email\n",
       "0  ahsan  javed  ahsan@email.com\n",
       "1   jane    Doe   jane@email.com\n",
       "2   john    Doe   john@email.com"
      ]
     },
     "execution_count": 4,
     "metadata": {},
     "output_type": "execute_result"
    }
   ],
   "source": [
    "df"
   ]
  },
  {
   "cell_type": "markdown",
   "id": "1eec54cc-b723-45aa-8c02-f383688eb3d6",
   "metadata": {},
   "source": [
    "## To update or get all column names"
   ]
  },
  {
   "cell_type": "code",
   "execution_count": 7,
   "id": "1434c162-8b00-47b7-94fa-31b1caa92e02",
   "metadata": {},
   "outputs": [
    {
     "data": {
      "text/plain": [
       "Index(['first', 'last', 'email'], dtype='object')"
      ]
     },
     "execution_count": 7,
     "metadata": {},
     "output_type": "execute_result"
    }
   ],
   "source": [
    "df.columns\n"
   ]
  },
  {
   "cell_type": "code",
   "execution_count": 14,
   "id": "1700d180-72b4-4024-98d7-fb823cf22bcf",
   "metadata": {
    "collapsed": true,
    "jupyter": {
     "outputs_hidden": true
    }
   },
   "outputs": [
    {
     "data": {
      "text/html": [
       "<div>\n",
       "<style scoped>\n",
       "    .dataframe tbody tr th:only-of-type {\n",
       "        vertical-align: middle;\n",
       "    }\n",
       "\n",
       "    .dataframe tbody tr th {\n",
       "        vertical-align: top;\n",
       "    }\n",
       "\n",
       "    .dataframe thead th {\n",
       "        text-align: right;\n",
       "    }\n",
       "</style>\n",
       "<table border=\"1\" class=\"dataframe\">\n",
       "  <thead>\n",
       "    <tr style=\"text-align: right;\">\n",
       "      <th></th>\n",
       "      <th>first</th>\n",
       "      <th>l_st</th>\n",
       "      <th>em_il</th>\n",
       "    </tr>\n",
       "  </thead>\n",
       "  <tbody>\n",
       "    <tr>\n",
       "      <th>0</th>\n",
       "      <td>ahsan</td>\n",
       "      <td>javed</td>\n",
       "      <td>ahsan@email.com</td>\n",
       "    </tr>\n",
       "    <tr>\n",
       "      <th>1</th>\n",
       "      <td>jane</td>\n",
       "      <td>Doe</td>\n",
       "      <td>jane@email.com</td>\n",
       "    </tr>\n",
       "    <tr>\n",
       "      <th>2</th>\n",
       "      <td>john</td>\n",
       "      <td>Doe</td>\n",
       "      <td>john@email.com</td>\n",
       "    </tr>\n",
       "  </tbody>\n",
       "</table>\n",
       "</div>"
      ],
      "text/plain": [
       "   first   l_st            em_il\n",
       "0  ahsan  javed  ahsan@email.com\n",
       "1   jane    Doe   jane@email.com\n",
       "2   john    Doe   john@email.com"
      ]
     },
     "execution_count": 14,
     "metadata": {},
     "output_type": "execute_result"
    }
   ],
   "source": [
    "df.columns = df.columns.str.replace('a', '_')\n",
    "df"
   ]
  },
  {
   "cell_type": "code",
   "execution_count": 18,
   "id": "0f5f8343-f3bc-42a7-98e4-a08075a363c4",
   "metadata": {
    "jupyter": {
     "source_hidden": true
    }
   },
   "outputs": [
    {
     "data": {
      "text/plain": [
       "Index(['FIRST', 'LAST', 'EMAIL'], dtype='object')"
      ]
     },
     "execution_count": 18,
     "metadata": {},
     "output_type": "execute_result"
    }
   ],
   "source": [
    "# str mean it is applied on each elemnt\n",
    "# df = df.columns = df.columns.str.upper()\n",
    "# df\n",
    "\n",
    "df.columns = [x.upper() for x in df.columns]\n",
    "df.columns\n"
   ]
  },
  {
   "cell_type": "markdown",
   "id": "9ea1f98e-0dab-44a6-b269-83accf117355",
   "metadata": {
    "jupyter": {
     "source_hidden": true
    }
   },
   "source": [
    "## To rename All columns name"
   ]
  },
  {
   "cell_type": "code",
   "execution_count": 31,
   "id": "2e684b8f-36fa-4b6c-8091-ced98b55fbb6",
   "metadata": {},
   "outputs": [
    {
     "data": {
      "text/html": [
       "<div>\n",
       "<style scoped>\n",
       "    .dataframe tbody tr th:only-of-type {\n",
       "        vertical-align: middle;\n",
       "    }\n",
       "\n",
       "    .dataframe tbody tr th {\n",
       "        vertical-align: top;\n",
       "    }\n",
       "\n",
       "    .dataframe thead th {\n",
       "        text-align: right;\n",
       "    }\n",
       "</style>\n",
       "<table border=\"1\" class=\"dataframe\">\n",
       "  <thead>\n",
       "    <tr style=\"text-align: right;\">\n",
       "      <th></th>\n",
       "      <th>first_name</th>\n",
       "      <th>last_name</th>\n",
       "      <th>email</th>\n",
       "    </tr>\n",
       "  </thead>\n",
       "  <tbody>\n",
       "    <tr>\n",
       "      <th>0</th>\n",
       "      <td>ahsan</td>\n",
       "      <td>javed</td>\n",
       "      <td>ahsan@email.com</td>\n",
       "    </tr>\n",
       "    <tr>\n",
       "      <th>1</th>\n",
       "      <td>jane</td>\n",
       "      <td>Doe</td>\n",
       "      <td>jane@email.com</td>\n",
       "    </tr>\n",
       "    <tr>\n",
       "      <th>2</th>\n",
       "      <td>john</td>\n",
       "      <td>Doe</td>\n",
       "      <td>john@email.com</td>\n",
       "    </tr>\n",
       "  </tbody>\n",
       "</table>\n",
       "</div>"
      ],
      "text/plain": [
       "  first_name last_name            email\n",
       "0      ahsan     javed  ahsan@email.com\n",
       "1       jane       Doe   jane@email.com\n",
       "2       john       Doe   john@email.com"
      ]
     },
     "execution_count": 31,
     "metadata": {},
     "output_type": "execute_result"
    }
   ],
   "source": [
    "df.rename(columns= {'first': 'first_name', 'last': 'last_name'}, inplace = True)\n",
    "df"
   ]
  },
  {
   "cell_type": "markdown",
   "id": "298f9ebc-d145-419c-baaf-350cceba8f29",
   "metadata": {},
   "source": [
    "## to update whole row"
   ]
  },
  {
   "cell_type": "code",
   "execution_count": 32,
   "id": "95551685-ac2d-4a03-a007-1023e892b6bb",
   "metadata": {},
   "outputs": [
    {
     "data": {
      "text/html": [
       "<div>\n",
       "<style scoped>\n",
       "    .dataframe tbody tr th:only-of-type {\n",
       "        vertical-align: middle;\n",
       "    }\n",
       "\n",
       "    .dataframe tbody tr th {\n",
       "        vertical-align: top;\n",
       "    }\n",
       "\n",
       "    .dataframe thead th {\n",
       "        text-align: right;\n",
       "    }\n",
       "</style>\n",
       "<table border=\"1\" class=\"dataframe\">\n",
       "  <thead>\n",
       "    <tr style=\"text-align: right;\">\n",
       "      <th></th>\n",
       "      <th>first_name</th>\n",
       "      <th>last_name</th>\n",
       "      <th>email</th>\n",
       "    </tr>\n",
       "  </thead>\n",
       "  <tbody>\n",
       "    <tr>\n",
       "      <th>0</th>\n",
       "      <td>ahsan</td>\n",
       "      <td>javed</td>\n",
       "      <td>ahsan@email.com</td>\n",
       "    </tr>\n",
       "    <tr>\n",
       "      <th>1</th>\n",
       "      <td>jane</td>\n",
       "      <td>Doe</td>\n",
       "      <td>jane@email.com</td>\n",
       "    </tr>\n",
       "    <tr>\n",
       "      <th>2</th>\n",
       "      <td>john</td>\n",
       "      <td>smith</td>\n",
       "      <td>johnsmith@email.com</td>\n",
       "    </tr>\n",
       "  </tbody>\n",
       "</table>\n",
       "</div>"
      ],
      "text/plain": [
       "  first_name last_name                email\n",
       "0      ahsan     javed      ahsan@email.com\n",
       "1       jane       Doe       jane@email.com\n",
       "2       john     smith  johnsmith@email.com"
      ]
     },
     "execution_count": 32,
     "metadata": {},
     "output_type": "execute_result"
    }
   ],
   "source": [
    "df.loc[2] = ['john'\t, 'smith',\t'johnsmith@email.com']\n",
    "df"
   ]
  },
  {
   "cell_type": "markdown",
   "id": "5009d619-cc6b-4462-8604-421c6567c146",
   "metadata": {},
   "source": [
    "## to update specific entities of a row // ALways use loc method for update not column       name for spefic entry update"
   ]
  },
  {
   "cell_type": "code",
   "execution_count": 39,
   "id": "d1940e29-bbb3-4be8-9e95-5499dd263e54",
   "metadata": {
    "collapsed": true,
    "jupyter": {
     "outputs_hidden": true,
     "source_hidden": true
    }
   },
   "outputs": [
    {
     "data": {
      "text/html": [
       "<div>\n",
       "<style scoped>\n",
       "    .dataframe tbody tr th:only-of-type {\n",
       "        vertical-align: middle;\n",
       "    }\n",
       "\n",
       "    .dataframe tbody tr th {\n",
       "        vertical-align: top;\n",
       "    }\n",
       "\n",
       "    .dataframe thead th {\n",
       "        text-align: right;\n",
       "    }\n",
       "</style>\n",
       "<table border=\"1\" class=\"dataframe\">\n",
       "  <thead>\n",
       "    <tr style=\"text-align: right;\">\n",
       "      <th></th>\n",
       "      <th>first</th>\n",
       "      <th>last</th>\n",
       "      <th>email</th>\n",
       "    </tr>\n",
       "  </thead>\n",
       "  <tbody>\n",
       "    <tr>\n",
       "      <th>0</th>\n",
       "      <td>ahsan</td>\n",
       "      <td>javed</td>\n",
       "      <td>ahsan@email.com</td>\n",
       "    </tr>\n",
       "    <tr>\n",
       "      <th>1</th>\n",
       "      <td>jane</td>\n",
       "      <td>Doe</td>\n",
       "      <td>jane@email.com</td>\n",
       "    </tr>\n",
       "    <tr>\n",
       "      <th>2</th>\n",
       "      <td>james</td>\n",
       "      <td>Doe</td>\n",
       "      <td>email@email.com</td>\n",
       "    </tr>\n",
       "  </tbody>\n",
       "</table>\n",
       "</div>"
      ],
      "text/plain": [
       "   first   last            email\n",
       "0  ahsan  javed  ahsan@email.com\n",
       "1   jane    Doe   jane@email.com\n",
       "2  james    Doe  email@email.com"
      ]
     },
     "execution_count": 39,
     "metadata": {},
     "output_type": "execute_result"
    }
   ],
   "source": [
    "df.loc[[2] ,['first', 'email']] = ['james','email@email.com']\n",
    "df\n"
   ]
  },
  {
   "cell_type": "code",
   "execution_count": 44,
   "id": "81263f83-14a2-46f7-989b-6c3cb8d50188",
   "metadata": {
    "collapsed": true,
    "jupyter": {
     "outputs_hidden": true,
     "source_hidden": true
    }
   },
   "outputs": [
    {
     "data": {
      "text/html": [
       "<div>\n",
       "<style scoped>\n",
       "    .dataframe tbody tr th:only-of-type {\n",
       "        vertical-align: middle;\n",
       "    }\n",
       "\n",
       "    .dataframe tbody tr th {\n",
       "        vertical-align: top;\n",
       "    }\n",
       "\n",
       "    .dataframe thead th {\n",
       "        text-align: right;\n",
       "    }\n",
       "</style>\n",
       "<table border=\"1\" class=\"dataframe\">\n",
       "  <thead>\n",
       "    <tr style=\"text-align: right;\">\n",
       "      <th></th>\n",
       "      <th>first</th>\n",
       "      <th>last</th>\n",
       "      <th>email</th>\n",
       "    </tr>\n",
       "  </thead>\n",
       "  <tbody>\n",
       "    <tr>\n",
       "      <th>0</th>\n",
       "      <td>ahsan</td>\n",
       "      <td>javed</td>\n",
       "      <td>ahsan@email.com</td>\n",
       "    </tr>\n",
       "    <tr>\n",
       "      <th>1</th>\n",
       "      <td>jane</td>\n",
       "      <td>Doe</td>\n",
       "      <td>jane@email.com</td>\n",
       "    </tr>\n",
       "    <tr>\n",
       "      <th>2</th>\n",
       "      <td>john</td>\n",
       "      <td>Doe</td>\n",
       "      <td>email@email.com</td>\n",
       "    </tr>\n",
       "  </tbody>\n",
       "</table>\n",
       "</div>"
      ],
      "text/plain": [
       "   first   last            email\n",
       "0  ahsan  javed  ahsan@email.com\n",
       "1   jane    Doe   jane@email.com\n",
       "2   john    Doe  email@email.com"
      ]
     },
     "execution_count": 44,
     "metadata": {},
     "output_type": "execute_result"
    }
   ],
   "source": [
    "#some times at is also ued which is same as loc BUT for single entity\n",
    "df.at[2 , 'email'] = 'email@email.com'\n",
    "df"
   ]
  },
  {
   "cell_type": "markdown",
   "id": "63291bfa-f592-4ca4-aa13-948f757e5b32",
   "metadata": {},
   "source": [
    "## to update whole column values WITHOUT apply"
   ]
  },
  {
   "cell_type": "code",
   "execution_count": 47,
   "id": "c140666c-33ae-4fe3-977b-01e922371cf4",
   "metadata": {
    "collapsed": true,
    "jupyter": {
     "outputs_hidden": true,
     "source_hidden": true
    }
   },
   "outputs": [
    {
     "data": {
      "text/html": [
       "<div>\n",
       "<style scoped>\n",
       "    .dataframe tbody tr th:only-of-type {\n",
       "        vertical-align: middle;\n",
       "    }\n",
       "\n",
       "    .dataframe tbody tr th {\n",
       "        vertical-align: top;\n",
       "    }\n",
       "\n",
       "    .dataframe thead th {\n",
       "        text-align: right;\n",
       "    }\n",
       "</style>\n",
       "<table border=\"1\" class=\"dataframe\">\n",
       "  <thead>\n",
       "    <tr style=\"text-align: right;\">\n",
       "      <th></th>\n",
       "      <th>first</th>\n",
       "      <th>last</th>\n",
       "      <th>email</th>\n",
       "    </tr>\n",
       "  </thead>\n",
       "  <tbody>\n",
       "    <tr>\n",
       "      <th>0</th>\n",
       "      <td>ahsan</td>\n",
       "      <td>javed</td>\n",
       "      <td>AHSAN@EMAIL.COM</td>\n",
       "    </tr>\n",
       "    <tr>\n",
       "      <th>1</th>\n",
       "      <td>jane</td>\n",
       "      <td>Doe</td>\n",
       "      <td>JANE@EMAIL.COM</td>\n",
       "    </tr>\n",
       "    <tr>\n",
       "      <th>2</th>\n",
       "      <td>john</td>\n",
       "      <td>Doe</td>\n",
       "      <td>JOHN@EMAIL.COM</td>\n",
       "    </tr>\n",
       "  </tbody>\n",
       "</table>\n",
       "</div>"
      ],
      "text/plain": [
       "   first   last            email\n",
       "0  ahsan  javed  AHSAN@EMAIL.COM\n",
       "1   jane    Doe   JANE@EMAIL.COM\n",
       "2   john    Doe   JOHN@EMAIL.COM"
      ]
     },
     "execution_count": 47,
     "metadata": {},
     "output_type": "execute_result"
    }
   ],
   "source": [
    "df['email'] = df['email'].str.upper() #however for advance levl we use apply\n",
    "df"
   ]
  },
  {
   "cell_type": "markdown",
   "id": "e5dee965-148a-46c4-9928-8f22b6a9cff8",
   "metadata": {
    "jp-MarkdownHeadingCollapsed": true
   },
   "source": [
    "## Apply is applied on a column or whole data frma.If applied on a column then has effect ##ON RUN A FUNCTION on each element of column> so we can apply function like on string ##like .uper etc ......... and if on whole dataframe then RUN A FUNCTION  on each column ##or on each row  if we change index > so we can apply functions like len etc which are ##on series."
   ]
  },
  {
   "cell_type": "raw",
   "id": "40988555-0750-4405-b1fe-d20fe1c15a3d",
   "metadata": {},
   "source": [
    "###############Apply on column##############################"
   ]
  },
  {
   "cell_type": "code",
   "execution_count": 57,
   "id": "f689be1b-6a6a-4f4f-8a0e-57f07be7fc6e",
   "metadata": {
    "collapsed": true,
    "jupyter": {
     "outputs_hidden": true,
     "source_hidden": true
    }
   },
   "outputs": [
    {
     "data": {
      "text/plain": [
       "0    15\n",
       "1    14\n",
       "2    14\n",
       "Name: email, dtype: int64"
      ]
     },
     "execution_count": 57,
     "metadata": {},
     "output_type": "execute_result"
    }
   ],
   "source": [
    "#Apply n series i.e. each value of series\n",
    "df['email'].apply(len)"
   ]
  },
  {
   "cell_type": "code",
   "execution_count": 61,
   "id": "35cd9b1d-c08f-4e84-ad3e-cf283758abeb",
   "metadata": {},
   "outputs": [],
   "source": [
    "def update_email(email):\n",
    "    return email.upper()"
   ]
  },
  {
   "cell_type": "code",
   "execution_count": 64,
   "id": "78732aee-1861-46c1-b2b9-865f0bb9d786",
   "metadata": {
    "collapsed": true,
    "jupyter": {
     "outputs_hidden": true
    },
    "scrolled": true
   },
   "outputs": [
    {
     "data": {
      "text/html": [
       "<div>\n",
       "<style scoped>\n",
       "    .dataframe tbody tr th:only-of-type {\n",
       "        vertical-align: middle;\n",
       "    }\n",
       "\n",
       "    .dataframe tbody tr th {\n",
       "        vertical-align: top;\n",
       "    }\n",
       "\n",
       "    .dataframe thead th {\n",
       "        text-align: right;\n",
       "    }\n",
       "</style>\n",
       "<table border=\"1\" class=\"dataframe\">\n",
       "  <thead>\n",
       "    <tr style=\"text-align: right;\">\n",
       "      <th></th>\n",
       "      <th>first</th>\n",
       "      <th>last</th>\n",
       "      <th>email</th>\n",
       "    </tr>\n",
       "  </thead>\n",
       "  <tbody>\n",
       "    <tr>\n",
       "      <th>0</th>\n",
       "      <td>ahsan</td>\n",
       "      <td>javed</td>\n",
       "      <td>AHSAN@EMAIL.COM</td>\n",
       "    </tr>\n",
       "    <tr>\n",
       "      <th>1</th>\n",
       "      <td>jane</td>\n",
       "      <td>Doe</td>\n",
       "      <td>JANE@EMAIL.COM</td>\n",
       "    </tr>\n",
       "    <tr>\n",
       "      <th>2</th>\n",
       "      <td>john</td>\n",
       "      <td>Doe</td>\n",
       "      <td>JOHN@EMAIL.COM</td>\n",
       "    </tr>\n",
       "  </tbody>\n",
       "</table>\n",
       "</div>"
      ],
      "text/plain": [
       "   first   last            email\n",
       "0  ahsan  javed  AHSAN@EMAIL.COM\n",
       "1   jane    Doe   JANE@EMAIL.COM\n",
       "2   john    Doe   JOHN@EMAIL.COM"
      ]
     },
     "execution_count": 64,
     "metadata": {},
     "output_type": "execute_result"
    }
   ],
   "source": [
    "df['email'] = df['email'].apply(update_email)\n",
    "df"
   ]
  },
  {
   "cell_type": "code",
   "execution_count": 73,
   "id": "3404a434-5703-4b7e-a880-b207b6bae0e0",
   "metadata": {},
   "outputs": [],
   "source": [
    "# or through lambda function\n",
    "df['email'] = df['email'].apply(lambda x: x.upper())"
   ]
  },
  {
   "cell_type": "raw",
   "id": "a3ef1787-059a-4f45-8223-d440e13bf712",
   "metadata": {},
   "source": [
    "###########Apply on whole data frame#############################"
   ]
  },
  {
   "cell_type": "code",
   "execution_count": 101,
   "id": "53c5d98e-6743-484b-a0d5-a56759b32074",
   "metadata": {
    "collapsed": true,
    "jupyter": {
     "outputs_hidden": true,
     "source_hidden": true
    }
   },
   "outputs": [
    {
     "data": {
      "text/plain": [
       "first    3\n",
       "last     3\n",
       "email    3\n",
       "dtype: int64"
      ]
     },
     "execution_count": 101,
     "metadata": {},
     "output_type": "execute_result"
    }
   ],
   "source": [
    "people = {\n",
    "    \"first\":[\"ahsan\", \"jane\",\"john\"],\n",
    "    \"last\":[\"javed\",\"Doe\", \"Doe\"],\n",
    "    \"email\":[\"ahsan@email.com\", \"jane@email.com\", \"john@email.com\"]\n",
    "}\n",
    "\n",
    "import pandas as pd\n",
    "df = pd.DataFrame(people)\n",
    "\n",
    "df.apply(len) #ll give len of each column"
   ]
  },
  {
   "cell_type": "code",
   "execution_count": 105,
   "id": "e710cf53-befb-4226-bcc3-592fc5b6f51d",
   "metadata": {
    "collapsed": true,
    "jupyter": {
     "outputs_hidden": true,
     "source_hidden": true
    }
   },
   "outputs": [
    {
     "data": {
      "text/plain": [
       "0    3\n",
       "1    3\n",
       "2    3\n",
       "dtype: int64"
      ]
     },
     "execution_count": 105,
     "metadata": {},
     "output_type": "execute_result"
    }
   ],
   "source": [
    "people = {\n",
    "    \"first\":[\"ahsan\", \"jane\",\"john\"],\n",
    "    \"last\":[\"javed\",\"Doe\", \"Doe\"],\n",
    "    \"email\":[\"ahsan@email.com\", \"jane@email.com\", \"john@email.com\"]\n",
    "}\n",
    "\n",
    "import pandas as pd\n",
    "df = pd.DataFrame(people)\n",
    "\n",
    "df.apply(len , axis = 'columns')"
   ]
  },
  {
   "cell_type": "code",
   "execution_count": 99,
   "id": "c279964f-366b-4c40-8f2d-c8e4bd0088f3",
   "metadata": {
    "collapsed": true,
    "jupyter": {
     "outputs_hidden": true,
     "source_hidden": true
    }
   },
   "outputs": [
    {
     "data": {
      "text/plain": [
       "first    3\n",
       "last     3\n",
       "email    3\n",
       "dtype: int64"
      ]
     },
     "execution_count": 99,
     "metadata": {},
     "output_type": "execute_result"
    }
   ],
   "source": [
    "people = {\n",
    "    \"first\":[\"ahsan\", \"jane\",\"john\"],\n",
    "    \"last\":[\"javed\",\"Doe\", \"Doe\"],\n",
    "    \"email\":[\"ahsan@email.com\", \"jane@email.com\", \"john@email.com\"]\n",
    "}\n",
    "\n",
    "import pandas as pd\n",
    "df = pd.DataFrame(people)\n",
    "\n",
    "\n",
    "df = df.apply(lambda x : len(x))\n",
    "df"
   ]
  },
  {
   "cell_type": "code",
   "execution_count": 107,
   "id": "920e0ae1-e654-486b-96ff-60041d5f1eee",
   "metadata": {
    "collapsed": true,
    "jupyter": {
     "outputs_hidden": true,
     "source_hidden": true
    }
   },
   "outputs": [
    {
     "data": {
      "text/html": [
       "<div>\n",
       "<style scoped>\n",
       "    .dataframe tbody tr th:only-of-type {\n",
       "        vertical-align: middle;\n",
       "    }\n",
       "\n",
       "    .dataframe tbody tr th {\n",
       "        vertical-align: top;\n",
       "    }\n",
       "\n",
       "    .dataframe thead th {\n",
       "        text-align: right;\n",
       "    }\n",
       "</style>\n",
       "<table border=\"1\" class=\"dataframe\">\n",
       "  <thead>\n",
       "    <tr style=\"text-align: right;\">\n",
       "      <th></th>\n",
       "      <th>first</th>\n",
       "      <th>last</th>\n",
       "      <th>email</th>\n",
       "    </tr>\n",
       "  </thead>\n",
       "  <tbody>\n",
       "    <tr>\n",
       "      <th>0</th>\n",
       "      <td>ahsan</td>\n",
       "      <td>javed</td>\n",
       "      <td>ahsan@email.com</td>\n",
       "    </tr>\n",
       "    <tr>\n",
       "      <th>1</th>\n",
       "      <td>jane</td>\n",
       "      <td>Doe</td>\n",
       "      <td>jane@email.com</td>\n",
       "    </tr>\n",
       "    <tr>\n",
       "      <th>2</th>\n",
       "      <td>john</td>\n",
       "      <td>Doe</td>\n",
       "      <td>john@email.com</td>\n",
       "    </tr>\n",
       "  </tbody>\n",
       "</table>\n",
       "</div>"
      ],
      "text/plain": [
       "   first   last            email\n",
       "0  ahsan  javed  ahsan@email.com\n",
       "1   jane    Doe   jane@email.com\n",
       "2   john    Doe   john@email.com"
      ]
     },
     "execution_count": 107,
     "metadata": {},
     "output_type": "execute_result"
    }
   ],
   "source": [
    "\n",
    "people = {\n",
    "    \"first\":[\"ahsan\", \"jane\",\"john\"],\n",
    "    \"last\":[\"javed\",\"Doe\", \"Doe\"],\n",
    "    \"email\":[\"ahsan@email.com\", \"jane@email.com\", \"john@email.com\"]\n",
    "}\n",
    "\n",
    "import pandas as pd\n",
    "df = pd.DataFrame(people)\n",
    "df.apply(pd.Series.min) #pd,Series.min is applied on a serie.As we are getting series by apply on whole df\n",
    "df"
   ]
  },
  {
   "cell_type": "markdown",
   "id": "5c463b88-949f-4f48-8313-880476d47977",
   "metadata": {},
   "source": [
    "## map works on each entity of a dataframe"
   ]
  },
  {
   "cell_type": "code",
   "execution_count": 112,
   "id": "2a115efb-5681-481c-b2e4-dcbb6d0c9cbc",
   "metadata": {},
   "outputs": [
    {
     "data": {
      "text/html": [
       "<div>\n",
       "<style scoped>\n",
       "    .dataframe tbody tr th:only-of-type {\n",
       "        vertical-align: middle;\n",
       "    }\n",
       "\n",
       "    .dataframe tbody tr th {\n",
       "        vertical-align: top;\n",
       "    }\n",
       "\n",
       "    .dataframe thead th {\n",
       "        text-align: right;\n",
       "    }\n",
       "</style>\n",
       "<table border=\"1\" class=\"dataframe\">\n",
       "  <thead>\n",
       "    <tr style=\"text-align: right;\">\n",
       "      <th></th>\n",
       "      <th>first</th>\n",
       "      <th>last</th>\n",
       "      <th>email</th>\n",
       "    </tr>\n",
       "  </thead>\n",
       "  <tbody>\n",
       "    <tr>\n",
       "      <th>0</th>\n",
       "      <td>5</td>\n",
       "      <td>5</td>\n",
       "      <td>15</td>\n",
       "    </tr>\n",
       "    <tr>\n",
       "      <th>1</th>\n",
       "      <td>4</td>\n",
       "      <td>3</td>\n",
       "      <td>14</td>\n",
       "    </tr>\n",
       "    <tr>\n",
       "      <th>2</th>\n",
       "      <td>4</td>\n",
       "      <td>3</td>\n",
       "      <td>14</td>\n",
       "    </tr>\n",
       "  </tbody>\n",
       "</table>\n",
       "</div>"
      ],
      "text/plain": [
       "   first  last  email\n",
       "0      5     5     15\n",
       "1      4     3     14\n",
       "2      4     3     14"
      ]
     },
     "execution_count": 112,
     "metadata": {},
     "output_type": "execute_result"
    }
   ],
   "source": [
    "people = {\n",
    "    \"first\":[\"ahsan\", \"jane\",\"john\"],\n",
    "    \"last\":[\"javed\",\"Doe\", \"Doe\"],\n",
    "    \"email\":[\"ahsan@email.com\", \"jane@email.com\", \"john@email.com\"]\n",
    "}\n",
    "\n",
    "import pandas as pd\n",
    "df = pd.DataFrame(people)\n",
    "\n",
    "\n",
    "df = df.map(len)\n",
    "df"
   ]
  },
  {
   "cell_type": "code",
   "execution_count": 113,
   "id": "d9cb6246-e584-4ad0-a52f-cb4d0a03ad1a",
   "metadata": {},
   "outputs": [
    {
     "data": {
      "text/html": [
       "<div>\n",
       "<style scoped>\n",
       "    .dataframe tbody tr th:only-of-type {\n",
       "        vertical-align: middle;\n",
       "    }\n",
       "\n",
       "    .dataframe tbody tr th {\n",
       "        vertical-align: top;\n",
       "    }\n",
       "\n",
       "    .dataframe thead th {\n",
       "        text-align: right;\n",
       "    }\n",
       "</style>\n",
       "<table border=\"1\" class=\"dataframe\">\n",
       "  <thead>\n",
       "    <tr style=\"text-align: right;\">\n",
       "      <th></th>\n",
       "      <th>first</th>\n",
       "      <th>last</th>\n",
       "      <th>email</th>\n",
       "    </tr>\n",
       "  </thead>\n",
       "  <tbody>\n",
       "    <tr>\n",
       "      <th>0</th>\n",
       "      <td>AHSAN</td>\n",
       "      <td>JAVED</td>\n",
       "      <td>AHSAN@EMAIL.COM</td>\n",
       "    </tr>\n",
       "    <tr>\n",
       "      <th>1</th>\n",
       "      <td>JANE</td>\n",
       "      <td>DOE</td>\n",
       "      <td>JANE@EMAIL.COM</td>\n",
       "    </tr>\n",
       "    <tr>\n",
       "      <th>2</th>\n",
       "      <td>JOHN</td>\n",
       "      <td>DOE</td>\n",
       "      <td>JOHN@EMAIL.COM</td>\n",
       "    </tr>\n",
       "  </tbody>\n",
       "</table>\n",
       "</div>"
      ],
      "text/plain": [
       "   first   last            email\n",
       "0  AHSAN  JAVED  AHSAN@EMAIL.COM\n",
       "1   JANE    DOE   JANE@EMAIL.COM\n",
       "2   JOHN    DOE   JOHN@EMAIL.COM"
      ]
     },
     "execution_count": 113,
     "metadata": {},
     "output_type": "execute_result"
    }
   ],
   "source": [
    "people = {\n",
    "    \"first\":[\"ahsan\", \"jane\",\"john\"],\n",
    "    \"last\":[\"javed\",\"Doe\", \"Doe\"],\n",
    "    \"email\":[\"ahsan@email.com\", \"jane@email.com\", \"john@email.com\"]\n",
    "}\n",
    "\n",
    "import pandas as pd\n",
    "df = pd.DataFrame(people)\n",
    "\n",
    "\n",
    "df = df.map(str.upper)\n",
    "df"
   ]
  },
  {
   "cell_type": "code",
   "execution_count": 119,
   "id": "bad88999-836b-4c25-836f-2d64d8444238",
   "metadata": {
    "collapsed": true,
    "jupyter": {
     "outputs_hidden": true,
     "source_hidden": true
    }
   },
   "outputs": [
    {
     "data": {
      "text/html": [
       "<div>\n",
       "<style scoped>\n",
       "    .dataframe tbody tr th:only-of-type {\n",
       "        vertical-align: middle;\n",
       "    }\n",
       "\n",
       "    .dataframe tbody tr th {\n",
       "        vertical-align: top;\n",
       "    }\n",
       "\n",
       "    .dataframe thead th {\n",
       "        text-align: right;\n",
       "    }\n",
       "</style>\n",
       "<table border=\"1\" class=\"dataframe\">\n",
       "  <thead>\n",
       "    <tr style=\"text-align: right;\">\n",
       "      <th></th>\n",
       "      <th>first</th>\n",
       "      <th>last</th>\n",
       "      <th>email</th>\n",
       "    </tr>\n",
       "  </thead>\n",
       "  <tbody>\n",
       "    <tr>\n",
       "      <th>0</th>\n",
       "      <td>ahsan</td>\n",
       "      <td>javed</td>\n",
       "      <td>ahsan@email.com</td>\n",
       "    </tr>\n",
       "    <tr>\n",
       "      <th>1</th>\n",
       "      <td>jane</td>\n",
       "      <td>Doe</td>\n",
       "      <td>jane@email.com</td>\n",
       "    </tr>\n",
       "    <tr>\n",
       "      <th>2</th>\n",
       "      <td>john</td>\n",
       "      <td>Doe</td>\n",
       "      <td>john@email.com</td>\n",
       "    </tr>\n",
       "  </tbody>\n",
       "</table>\n",
       "</div>"
      ],
      "text/plain": [
       "   first   last            email\n",
       "0  ahsan  javed  ahsan@email.com\n",
       "1   jane    Doe   jane@email.com\n",
       "2   john    Doe   john@email.com"
      ]
     },
     "execution_count": 119,
     "metadata": {},
     "output_type": "execute_result"
    }
   ],
   "source": [
    "# or map can be used on a series to replace entities\n",
    "people = {\n",
    "    \"first\":[\"ahsan\", \"jane\",\"john\"],\n",
    "    \"last\":[\"javed\",\"Doe\", \"Doe\"],\n",
    "    \"email\":[\"ahsan@email.com\", \"jane@email.com\", \"john@email.com\"]\n",
    "}\n",
    "\n",
    "import pandas as pd\n",
    "df = pd.DataFrame(people)\n",
    "\n",
    "\n",
    "df['first'].map({'ahsan':'ahsan javed'})\n",
    "df"
   ]
  },
  {
   "cell_type": "markdown",
   "id": "92431a81-e443-493d-a790-669bf6201bd7",
   "metadata": {},
   "source": [
    "## replece and map are doing samedfd"
   ]
  },
  {
   "cell_type": "code",
   "execution_count": null,
   "id": "2fcc012b-5369-4cb7-8860-4356ace4b84f",
   "metadata": {
    "jupyter": {
     "source_hidden": true
    }
   },
   "outputs": [],
   "source": [
    "people = {\n",
    "    \"first\":[\"ahsan\", \"jane\",\"john\"],\n",
    "    \"last\":[\"javed\",\"Doe\", \"Doe\"],\n",
    "    \"email\":[\"ahsan@email.com\", \"jane@email.com\", \"john@email.com\"]\n",
    "}\n",
    "\n",
    "import pandas as pd\n",
    "df = pd.DataFrame(people)\n",
    "\n",
    "\n",
    "df['first'].replace({'ahsan':'ahsan javed'})\n",
    "df"
   ]
  }
 ],
 "metadata": {
  "kernelspec": {
   "display_name": "Python 3 (ipykernel)",
   "language": "python",
   "name": "python3"
  },
  "language_info": {
   "codemirror_mode": {
    "name": "ipython",
    "version": 3
   },
   "file_extension": ".py",
   "mimetype": "text/x-python",
   "name": "python",
   "nbconvert_exporter": "python",
   "pygments_lexer": "ipython3",
   "version": "3.12.4"
  }
 },
 "nbformat": 4,
 "nbformat_minor": 5
}
